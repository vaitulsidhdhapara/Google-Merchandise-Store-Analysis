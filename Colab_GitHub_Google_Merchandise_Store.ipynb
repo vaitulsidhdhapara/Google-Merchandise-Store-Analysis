{
  "nbformat": 4,
  "nbformat_minor": 0,
  "metadata": {
    "colab": {
      "provenance": [],
      "include_colab_link": true
    },
    "kernelspec": {
      "name": "python3",
      "display_name": "Python 3"
    },
    "language_info": {
      "name": "python"
    }
  },
  "cells": [
    {
      "cell_type": "markdown",
      "metadata": {
        "id": "view-in-github",
        "colab_type": "text"
      },
      "source": [
        "<a href=\"https://colab.research.google.com/github/vaitulsidhdhapara/Google-Merchandise-Store-Analysis/blob/main/Colab_GitHub_Google_Merchandise_Store.ipynb\" target=\"_parent\"><img src=\"https://colab.research.google.com/assets/colab-badge.svg\" alt=\"Open In Colab\"/></a>"
      ]
    },
    {
      "cell_type": "markdown",
      "source": [
        "This assignment is to perform an analysis of the “Google Merchandise Store” website using Google Analytics and make dashboards on Google Data Studio by answering the  questions given below."
      ],
      "metadata": {
        "id": "5hpTDxdtjR03"
      }
    },
    {
      "cell_type": "markdown",
      "source": [
        "### **Steps to access the Analytics data:**\n"
      ],
      "metadata": {
        "id": "2MtIQu2Ajbge"
      }
    },
    {
      "cell_type": "markdown",
      "source": [
        "**Step 1:** Go to https://analytics.google.com/analytics/web/demoAccount  and click on ‘Universal Analytics property: Google Merchandise Store (web data)’ under 'Access the demo account' and analyse the different metrics and reports given. The data in the Google Analytics demo account is from the Google Merchandise Store(https://shop.googlemerchandisestore.com/)."
      ],
      "metadata": {
        "id": "9nQWWF2KjdYu"
      }
    },
    {
      "cell_type": "markdown",
      "source": [
        "**Step 2:** Go to https://datastudio.google.com/ and click on ‘Blank Report’ under reports. Fill in the necessary information and make an account."
      ],
      "metadata": {
        "id": "5vPmX4y7jdbQ"
      }
    },
    {
      "cell_type": "markdown",
      "source": [
        "**Step 3:** Click on ‘My data Sources’ and add the ‘[Sample] Google Analytics Data’."
      ],
      "metadata": {
        "id": "3pAag0XajdeZ"
      }
    },
    {
      "cell_type": "markdown",
      "source": [
        "**Step 4:** Make 3 separate dashboards on - ‘Google Analytics’, ‘Cohort Analytics’, and ‘Funnel Analytics’ on Data Studio using proper visualisation charts and graphs, and try to answer the following questions."
      ],
      "metadata": {
        "id": "fhsxhq3Zkax8"
      }
    },
    {
      "cell_type": "markdown",
      "source": [
        "### **A. Google Analytics:**"
      ],
      "metadata": {
        "id": "4raU6wser9iV"
      }
    },
    {
      "cell_type": "markdown",
      "source": [
        "1. Plot a chart showing the comparison of transactions, E-Commerce Conversion Rate and revenue in the month of November, 2022 with respect to the previous month i.e. October, 2022. \n",
        "\n",
        "  a. What is the highest transactions, E-Commerce Conversion Rate and revenue in the month of November, 2022 and on which dates? \n",
        "\n",
        "  b. Are there any common dates on which transactions, E-Commerce Conversion Rate and revenue were the same w.r.t. the previous month?\n",
        "\n",
        "  c. What is the average of transactions, E-Commerce Conversion Rate w.r.t. the previous month?\n",
        "\n"
      ],
      "metadata": {
        "id": "oKkOXxQzsC-c"
      }
    },
    {
      "cell_type": "markdown",
      "source": [
        "2. Plot a chart showing the comparison of transactions, E-Commerce Conversion Rate and revenue for the different channel groups.\n",
        "\n",
        "  a. Which channel group has the highest E-Commerce Conversion Rate in the month of November, 2022?\n",
        "\n",
        "  b. What is the number of sessions in the month of July, 2022 from Affiliates?\n",
        "\n",
        "  c. Has the revenue increased or decreased from Paid Search in the month of September 2022 w.r.t August 2022 and by how much percentage?\n"
      ],
      "metadata": {
        "id": "lP6a8Fs5saeF"
      }
    },
    {
      "cell_type": "markdown",
      "source": [
        "3. Plot a chart showing the revenue generation from different age groups of people.\n",
        "\n",
        "  a. From which age group is the highest revenue generated in the month of August, 2022 and on which date?\n",
        "\n",
        "  b. From which age group is the lowest revenue generated in the year 2022?\n",
        "\n",
        "  c. What is the percentage of revenue generated for the age group 18-24?\n"
      ],
      "metadata": {
        "id": "JQV2wgUNsi69"
      }
    },
    {
      "cell_type": "markdown",
      "source": [
        "4. For different landing pages, Show the number of transactions, E-Commerce Conversion Rate and revenue  with respect to the last period.\n",
        "\n",
        "  a. What is the total number of landing pages for the last quarter?\n",
        "  \n",
        " \tb. Which landing page has the highest transactions in the year 2021?"
      ],
      "metadata": {
        "id": "r3vLaN2Xs7fV"
      }
    },
    {
      "cell_type": "markdown",
      "source": [
        "5. Show the revenue generated for different cities of the USA. Also plot a chart showing the transactions and  average screen time for the new users.\n",
        "\n",
        "  a. From which city, the highest revenue was generated in the first quarter of 2022?\n",
        "  \n",
        "  b. What is the number of new users in the last 14 days and what is the revenue generated by them?\n"
      ],
      "metadata": {
        "id": "8MuhmMG1s-ne"
      }
    },
    {
      "cell_type": "markdown",
      "source": [
        "### **B. Cohort Analytics:**"
      ],
      "metadata": {
        "id": "igP0Pfg0tE88"
      }
    },
    {
      "cell_type": "markdown",
      "source": [
        "1. Plot a chart to show the trend of user retention over a given time period.(Compare for different cohort sizes) (You can refer to this link - https://analytics.google.com/analytics/web/?utm_source=demoaccount&utm_medium=demoaccount&utm_campaign=demoaccount#/report/visitors-cohort/a54516992w87479473p92320289/ )"
      ],
      "metadata": {
        "id": "x9TEH9jJtHuc"
      }
    },
    {
      "cell_type": "markdown",
      "source": [
        "2. Plot a chart showing the conversion rate per user for 30 days in any month."
      ],
      "metadata": {
        "id": "xJAb9QButTCg"
      }
    },
    {
      "cell_type": "markdown",
      "source": [
        "3. Plot a chart showing the grand total conversion rate for different user categories for 30 days in a month."
      ],
      "metadata": {
        "id": "bnB83ziRtWXG"
      }
    },
    {
      "cell_type": "markdown",
      "source": [
        "4. Plot a chart showing the Bounce rates for different countries over a specific period of time. Also show different metrics such as total users, new users,  conversion rate per user, time on screen, Average price, Order value etc. for different countries."
      ],
      "metadata": {
        "id": "VbLXbmvAtY1n"
      }
    },
    {
      "cell_type": "markdown",
      "source": [
        "### **C. Funnel Analytics:**"
      ],
      "metadata": {
        "id": "oVAeRjjZtdtO"
      }
    },
    {
      "cell_type": "markdown",
      "source": [
        "Prepare a funnel overview with 5 parts - Acquisition, Activation,   Retention, Revenue, Referral, Funnel Visualization. Add different charts and graphs showing the following metrics:\n",
        "\n"
      ],
      "metadata": {
        "id": "M_72rqngtjfs"
      }
    },
    {
      "cell_type": "markdown",
      "source": [
        "1. *Acquisition*:\n",
        "\n",
        "  a. The number of sessions and bounce rate for each channel.\n",
        "\n",
        "  b. The number of visitors and returning visitors for each channel.\n",
        "\n",
        "  c. Total users and session showing comparison with respect to the previous month.\n"
      ],
      "metadata": {
        "id": "uv5iHGPXtnV9"
      }
    },
    {
      "cell_type": "markdown",
      "source": [
        "2. *Activation:*\n",
        "\n",
        "  a. What is the Bounce rate, Pages/Session and Average Session Duration for all users?\n",
        "\n",
        "  b. Number of Registrations, Engaged Users and its conversion rates.\n"
      ],
      "metadata": {
        "id": "P2wnbEAVt3r9"
      }
    },
    {
      "cell_type": "markdown",
      "source": [
        "3. *Retention*:\n",
        "\n",
        "  a. What is the number of returning users and its bounce rate?\n",
        "\n",
        "  b. The number of transactions made for each session for returning users.\n"
      ],
      "metadata": {
        "id": "TIcM7v_Nt-a1"
      }
    },
    {
      "cell_type": "markdown",
      "source": [
        "4. *Revenue*:\n",
        "\n",
        "  a. What is the total revenue, Total transactions, Revenue per user, E-Commerce Conversion Rate, and Product revenue per purchase for all users.\n",
        "\n",
        "  b. Quantity bought for each product.\n"
      ],
      "metadata": {
        "id": "kXm77ZEquU79"
      }
    },
    {
      "cell_type": "markdown",
      "source": [
        "5. *Referral*:\n",
        "\n",
        "  a. What is the number of sessions and Bounce rate for the referral users?\n",
        "\n",
        "  b. Number of sessions for each referral.\n"
      ],
      "metadata": {
        "id": "Sm-UBpKoujSV"
      }
    },
    {
      "cell_type": "markdown",
      "source": [
        "6. *Funnel Visualization:*\n",
        "\n",
        "Add a Metric Funnel under Community visualisations in Data Studio showing the following processes in the  funnel:\n",
        "Total Engaged Users - Users who completed the registrations - Users who added items to card - Users who entered Checkout - users who completed Payment.\n",
        "(You can refer to the funnel visualization topic from this link - https://analytics.google.com/analytics/web/?utm_source=demoaccount&utm_medium=demoaccount&utm_campaign=demoaccount#/report/conversions-goal-funnel/a54516992w87479473p92320289/ )\n"
      ],
      "metadata": {
        "id": "9oehnVaFzFFH"
      }
    },
    {
      "cell_type": "markdown",
      "source": [
        "### **D. Experiment and Design**"
      ],
      "metadata": {
        "id": "gfe6LJQezQym"
      }
    },
    {
      "cell_type": "markdown",
      "source": [
        "1. Define the steps on how you can perform a SWOT Analysis on the Google Merchandise Store website. \n",
        "2. Which features of the dataset can you perform A/B Testing?\n",
        "3.  Mention different types of A/B tests you can perform on the dataset.\n",
        "4. Which statistical approach you can use to run an A/B test?\n",
        "5. Mention the steps to perform the A/B Test.\n",
        "6. What are the advantages of A/B testing for this website?\n",
        "7. What can be the challenges you can face while performing this A/B testing?\n"
      ],
      "metadata": {
        "id": "RPnqkLPDzSw9"
      }
    },
    {
      "cell_type": "markdown",
      "source": [
        "***Write your answer here for D.***"
      ],
      "metadata": {
        "id": "cDrd8_LBvmdt"
      }
    },
    {
      "cell_type": "markdown",
      "source": [
        "**Ans:1**\n",
        "\n",
        "SWOT analysis is a strategic planning tool that helps to identify and evaluate the strengths, weaknesses, opportunities, and threats of an organization. To perform a SWOT analysis on the Google Merchandise Store website, follow these steps:\n",
        "\n",
        "**Step 1: Determine Your Objective :**\n",
        "Identify the purpose of the SWOT analysis. For example, the objective could be to assess the website's performance, identify areas for improvement, or explore new opportunities for growth.\n",
        "\n",
        "**Step 2: Identify strengths:** Analyze the website's strengths, such as its user interface, product selection, brand reputation, or customer loyalty. List down these strengths.\n",
        "\n",
        "**Step 3: Identify weaknesses:** Evaluate the website's weaknesses, such as its loading speed, navigation, checkout process, or lack of mobile responsiveness. List down these weaknesses.\n",
        "\n",
        "**Step 4: Identify opportunities:** Identify external opportunities that the website could capitalize on, such as increasing demand for e-commerce, expanding to new markets, or adding new product categories. List down these opportunities.\n",
        "\n",
        "**Step 5: Identify threats:** Identify external threats that could negatively impact the website's performance, such as new competitors entering the market, changes in customer preferences, or economic downturns. List down these threats.\n",
        "\n",
        "**Step 6: Analyze the findings:** Analyze the SWOT analysis findings to determine how to capitalize on the strengths and opportunities, address the weaknesses, and mitigate the threats.\n",
        "\n",
        "**Step 7: Develop an action plan:** Based on the SWOT analysis findings, develop an action plan to address the weaknesses, capitalize on the strengths and opportunities, and mitigate the threats. The action plan should include specific steps, timelines, and responsibilities.\n",
        "\n",
        "**Step 8: Monitor and review:** Monitor the implementation of the action plan and regularly review the SWOT analysis to ensure the website is continually improving and adapting to changing market conditions.\n"
      ],
      "metadata": {
        "id": "9QXHxCwKsJmn"
      }
    },
    {
      "cell_type": "markdown",
      "source": [
        "**Ans:2**\n",
        "\n",
        "A/B testing is a statistical method used to compare two or more variants of a website or mobile app to determine which one performs better. In the Google Merchandise Store website data, some of the features that can be tested using A/B testing include:\n",
        "\n",
        "\n",
        "* Page design and layout\n",
        "* Product descriptions\n",
        "* Pricing\n",
        "* Promotions(Offers)\n",
        "* Product Images \n",
        "* Content"
      ],
      "metadata": {
        "id": "oBkKL2huv2aV"
      }
    },
    {
      "cell_type": "markdown",
      "source": [
        "**Ans:3**\n",
        "\n",
        "There are several types of A/B tests that can be performed on the Google Merchandise Store website data, some of which are:\n",
        "\n",
        "* **Funnel test:** This test involves testing different variations of a web page at different stages of the conversion funnel to determine which variation leads to the highest conversion rates. For example, testing different checkout processes or different confirmation pages.\n",
        "* **Pricing test:** This test involves testing different pricing strategies, such as discounts, bundling, or tiered pricing, to determine which strategy generates the highest revenue or profit.\n",
        "* **Split URL test:** This test involves creating two different versions of a web page with different URLs and directing equal traffic to each page to measure which page performs better.\n",
        "* **Time-based test:** This test involves testing different variants of a web page over a period of time to determine which variant performs better during a specific time period, such as testing different promotional offers during the holiday season.\n",
        "* **Personalization test:** This test involves testing different variations of a web page based on user characteristics, such as location, demographics, or browsing history, to determine which version leads to the best performance for each user segment.\n",
        "* **CRO (Conversion Rate Optimization) test**"
      ],
      "metadata": {
        "id": "NcJ0l2MsynTp"
      }
    },
    {
      "cell_type": "markdown",
      "source": [
        "**Ans:4**\n",
        "\n",
        "To run an A/B test on the Google Merchandise Store website data, a statistical approach known as hypothesis testing can be used. \n",
        "\n",
        "An AB test is an example of statistical hypothesis testing, a process whereby a hypothesis is made about the relationship between two data sets and those data sets are then compared against each other to determine if there is a statistically significant relationship or not."
      ],
      "metadata": {
        "id": "p-VXkUSh38TX"
      }
    },
    {
      "cell_type": "markdown",
      "source": [
        "**Ans:5**\n",
        "\n",
        "Hypothesis testing involves the following steps:\n",
        "\n",
        "**Formulate a hypothesis:** Formulate a null hypothesis (H0) and an alternative hypothesis (H1). For example, the null hypothesis could be that there is no significant difference between two variants of a web page, while the alternative hypothesis could be that there is a significant difference between the two variants.\n",
        "\n",
        "**Determine the sample size:** Determine the sample size needed to achieve statistical significance and power, based on factors such as the expected effect size, significance level, and statistical power.\n",
        "\n",
        "**Randomly assign participants:** Randomly assign participants to either the control group or the treatment group. The control group receives the current version of the website, while the treatment group receives the modified version.\n",
        "\n",
        "**Collect data:** Collect data on the performance metrics, such as conversion rates, revenue, or click-through rates, for both the control group and the treatment group.\n",
        "\n",
        "**Analyze the data:** Analyze the data using statistical methods such as t-tests, ANOVA, or chi-square tests to determine if there is a statistically significant difference between the control and treatment groups.\n",
        "\n",
        "**Draw conclusions:** Based on the statistical analysis, draw conclusions about the effectiveness of the modified version of the website compared to the current version.\n",
        "\n",
        "**Implement the winning variant:** If the modified version is found to be statistically significant, implement it as the new version of the website."
      ],
      "metadata": {
        "id": "uA2QsuwO2XRU"
      }
    },
    {
      "cell_type": "markdown",
      "source": [
        "**Ans:6**\n",
        "\n",
        "A/B testing offers several advantages for the Google Merchandise Store website data:\n",
        "\n",
        "**Data-driven decision making:** A/B testing enables data-driven decision making by providing objective data on the performance of different variants of the website. This can help to identify opportunities for improvement and optimize the website for better performance.\n",
        "\n",
        "**Improved user experience:** A/B testing can help to improve the user experience by identifying design and content elements that resonate with users and lead to higher engagement and conversions.\n",
        "\n",
        "**Cost-effective:** A/B testing is a cost-effective way to test website variations compared to other forms of market research, such as focus groups or surveys.\n",
        "\n",
        "**Reduced risk:** A/B testing can help to reduce the risk of making changes to the website by allowing for controlled experiments and minimizing the impact of potential negative outcomes.\n",
        "\n",
        "**Faster results:** A/B testing can provide results in a shorter amount of time compared to other forms of market research, allowing for more rapid optimization and improvement of the website.\n",
        "\n",
        "**Scalability:** A/B testing can be easily scaled up to test multiple variations of the website, allowing for more comprehensive optimization and improvement."
      ],
      "metadata": {
        "id": "Oz7s5EGnnj87"
      }
    },
    {
      "cell_type": "markdown",
      "source": [
        "**Ans:7**\n",
        "\n",
        "A/B testing is a powerful method to optimize website performance, but it also has its challenges. Here are some of the challenges that you might face while performing A/B testing for the Google Merchandise Store website data:\n",
        "\n",
        "**Seasonality:** Seasonality can impact the results of an A/B test. For example, if the test is conducted during a holiday season, the results may not be representative of the rest of the year.\n",
        "\n",
        "**Sample size:** One of the biggest challenges in A/B testing is ensuring that you have a large enough sample size to draw valid conclusions. If your sample size is too small, your results may not be statistically significant and may not accurately represent the population you are targeting.\n",
        "\n",
        "**Test duration:** The duration of the test is an important factor in A/B testing. If the test runs for too short a time, you may not have enough data to draw valid conclusions. Conversely, if the test runs for too long, you may lose momentum and interest in the project.\n",
        "\n",
        "**Time and resources:** A/B testing requires time and resources to set up, run, and analyze the results. If you have limited time and resources, you may not be able to conduct the testing properly or analyze the data effectively.\n",
        "\n",
        "**User experience:** A/B testing can potentially impact the user experience, and you need to ensure that the testing does not negatively affect your users' experience on the website."
      ],
      "metadata": {
        "id": "66kKYFuxoucl"
      }
    },
    {
      "cell_type": "markdown",
      "source": [
        "## **Solution of A,B & C**"
      ],
      "metadata": {
        "id": "_uIDwBQxvtx3"
      }
    },
    {
      "cell_type": "markdown",
      "source": [
        "**Google Analytics**\n",
        "\n",
        "https://lookerstudio.google.com/reporting/b0be4551-0d15-4398-ae6a-e1124e951427\n",
        "\n",
        "\n",
        "\n",
        "**Cohort Analytics**\n",
        "\n",
        "https://lookerstudio.google.com/reporting/21bd584b-1894-4225-b44f-01bdba8bfa10\n",
        "\n",
        "**Funnel Analytics**\n",
        "\n",
        "https://lookerstudio.google.com/reporting/b1fd323d-2d8d-438f-bfad-ac3f9b019e80\n"
      ],
      "metadata": {
        "id": "2k1wWOp9KIEP"
      }
    }
  ]
}